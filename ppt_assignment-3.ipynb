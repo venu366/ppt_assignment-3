{
 "cells": [
  {
   "cell_type": "code",
   "execution_count": null,
   "id": "49322927",
   "metadata": {},
   "outputs": [],
   "source": [
    "## 1Q\n",
    "\n",
    "class Solution:\n",
    "    def arrayPairSum(self, nums: List[int]) -> int:\n",
    "        nums.sort()\n",
    "        r=0\n",
    "        for i in range(len(nums)//2):\n",
    "            a+= nums[2*i]\n",
    "        return r  "
   ]
  },
  {
   "cell_type": "code",
   "execution_count": null,
   "id": "473439eb",
   "metadata": {},
   "outputs": [],
   "source": [
    "##2Q\n",
    "\n",
    "class Solution:\n",
    "    def distributeCandies(self, candyType: List[int]) -> int:\n",
    "        return min(len(candyType) >> 1, len(set(candyType)))"
   ]
  },
  {
   "cell_type": "code",
   "execution_count": null,
   "id": "3a8ece20",
   "metadata": {},
   "outputs": [],
   "source": [
    "##3Q\n",
    "\n",
    "class Solution(object):\n",
    "    def findLHS(self, nums):\n",
    "        numsLen, left, result = len(nums), 0, 0\n",
    "        nums = sorted(nums)\n",
    "        for i in range(numsLen):\n",
    "            while left < i and nums[i] - nums[left] > 1L:\n",
    "                left += 1\n",
    "            if nums[i] - nums[left] == 1L:\n",
    "                result = max(i - left + 1, result)\n",
    "        return result"
   ]
  },
  {
   "cell_type": "code",
   "execution_count": null,
   "id": "1c962cf3",
   "metadata": {},
   "outputs": [],
   "source": [
    "##4Q\n",
    "\n",
    "class solution:\n",
    "    def canPlaceFlowers(self , flowerbed: List[int] ,n: int) -> bool:\n",
    "        f = [0] + flowerbed + [0]\n",
    "        \n",
    "        for i in range(1,len(f) - 1):\n",
    "            if f[i-1] == 0 and f[i] == 0 and f[i+1] == 0:\n",
    "                f[i] = 1\n",
    "                n -= 1\n",
    "                \n",
    "        return n <= 0\n",
    "    "
   ]
  },
  {
   "cell_type": "code",
   "execution_count": null,
   "id": "9049bc94",
   "metadata": {},
   "outputs": [],
   "source": [
    "##5Q\n",
    "\n",
    "def maxProduct(arr, n):\n",
    " \n",
    "    # if size is less than 3, no triplet exists\n",
    "    if n < 3:\n",
    "        return -1\n",
    " \n",
    "    # Sort the array in ascending order\n",
    "    arr.sort()\n",
    " \n",
    "    # Return the maximum of product of last\n",
    "    # three elements and product of first\n",
    "    # two elements and last element\n",
    "    return max(arr[0] * arr[1] * arr[n - 1],\n",
    "               arr[n - 1] * arr[n - 2] * arr[n - 3])"
   ]
  },
  {
   "cell_type": "code",
   "execution_count": null,
   "id": "df952dbe",
   "metadata": {},
   "outputs": [],
   "source": [
    "##6Q\n",
    "\n",
    "def targetFinder(nums,target):\n",
    "if target in nums:return nums.index(target)\n",
    "else:return -1"
   ]
  },
  {
   "cell_type": "code",
   "execution_count": null,
   "id": "13428594",
   "metadata": {},
   "outputs": [],
   "source": [
    "##7Q\n",
    "\n",
    "def check(arr):\n",
    "    N = len(arr)\n",
    "    inc = True\n",
    "    dec = True\n",
    "     \n",
    "    # Loop to check if array is increasing\n",
    "    for i in range(0, N-1):\n",
    "       \n",
    "        # To check if array is not increasing\n",
    "        if arr[i] > arr[i+1]:\n",
    "            inc = False\n",
    " \n",
    "    # Loop to check if array is decreasing\n",
    "    for i in range(0, N-1):\n",
    "       \n",
    "       # To check if array is not decreasing\n",
    "        if arr[i] < arr[i+1]:\n",
    "            dec = False\n",
    " \n",
    "    # Pick one whether inc or dec\n",
    "    return inc or dec"
   ]
  },
  {
   "cell_type": "code",
   "execution_count": null,
   "id": "244bcbdb",
   "metadata": {},
   "outputs": [],
   "source": [
    "##8Q\n",
    "\n",
    "def minDiff(arr,n,k):\n",
    "    result = +2147483647\n",
    "  \n",
    "    # Sorting the array.\n",
    "    arr.sort()\n",
    "  \n",
    "    # Find minimum value among\n",
    "    # all K size subarray.\n",
    "    for i in range(n-k+1):\n",
    "        result = int(min(result, arr[i+k-1] - arr[i]))\n",
    "  \n",
    "    return result"
   ]
  }
 ],
 "metadata": {
  "kernelspec": {
   "display_name": "Python 3 (ipykernel)",
   "language": "python",
   "name": "python3"
  },
  "language_info": {
   "codemirror_mode": {
    "name": "ipython",
    "version": 3
   },
   "file_extension": ".py",
   "mimetype": "text/x-python",
   "name": "python",
   "nbconvert_exporter": "python",
   "pygments_lexer": "ipython3",
   "version": "3.9.12"
  }
 },
 "nbformat": 4,
 "nbformat_minor": 5
}
